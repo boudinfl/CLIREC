{
 "cells": [
  {
   "cell_type": "code",
   "execution_count": 1,
   "id": "1f2fac43",
   "metadata": {},
   "outputs": [
    {
     "name": "stdout",
     "output_type": "stream",
     "text": [
      "\u001b[33mDEPRECATION: Configuring installation scheme with distutils config files is deprecated and will no longer work in the near future. If you are using a Homebrew or Linuxbrew Python, please see discussion at https://github.com/Homebrew/homebrew-core/issues/76621\u001b[0m\u001b[33m\n",
      "\u001b[0mRequirement already satisfied: pyjnius in /usr/local/lib/python3.9/site-packages (1.4.1)\n",
      "Requirement already satisfied: six>=1.7.0 in /usr/local/lib/python3.9/site-packages (from pyjnius) (1.16.0)\n",
      "\u001b[33mDEPRECATION: Configuring installation scheme with distutils config files is deprecated and will no longer work in the near future. If you are using a Homebrew or Linuxbrew Python, please see discussion at https://github.com/Homebrew/homebrew-core/issues/76621\u001b[0m\u001b[33m\n",
      "\u001b[0m\u001b[33mWARNING: You are using pip version 22.0.4; however, version 22.1.1 is available.\n",
      "You should consider upgrading via the '/usr/local/opt/python@3.9/bin/python3.9 -m pip install --upgrade pip' command.\u001b[0m\u001b[33m\n",
      "\u001b[0m\u001b[33mDEPRECATION: Configuring installation scheme with distutils config files is deprecated and will no longer work in the near future. If you are using a Homebrew or Linuxbrew Python, please see discussion at https://github.com/Homebrew/homebrew-core/issues/76621\u001b[0m\u001b[33m\n",
      "\u001b[0mRequirement already satisfied: pyserini in /usr/local/lib/python3.9/site-packages (0.16.1)\n",
      "Requirement already satisfied: nmslib>=2.1.1 in /usr/local/lib/python3.9/site-packages (from pyserini) (2.1.1)\n",
      "Requirement already satisfied: Cython>=0.29.21 in /usr/local/lib/python3.9/site-packages (from pyserini) (0.29.30)\n",
      "Requirement already satisfied: sentencepiece>=0.1.95 in /usr/local/lib/python3.9/site-packages (from pyserini) (0.1.96)\n",
      "Requirement already satisfied: scikit-learn>=0.22.1 in /usr/local/lib/python3.9/site-packages (from pyserini) (1.1.0)\n",
      "Requirement already satisfied: transformers>=4.6.0 in /usr/local/lib/python3.9/site-packages (from pyserini) (4.19.2)\n",
      "Requirement already satisfied: onnxruntime>=1.8.1 in /usr/local/lib/python3.9/site-packages (from pyserini) (1.11.1)\n",
      "Requirement already satisfied: spacy>=3.2.1 in /usr/local/lib/python3.9/site-packages (from pyserini) (3.2.3)\n",
      "Requirement already satisfied: numpy>=1.18.1 in /usr/local/lib/python3.9/site-packages (from pyserini) (1.22.2)\n",
      "Requirement already satisfied: scipy>=1.4.1 in /usr/local/lib/python3.9/site-packages (from pyserini) (1.8.0)\n",
      "Requirement already satisfied: lightgbm>=3.3.2 in /usr/local/lib/python3.9/site-packages (from pyserini) (3.3.2)\n",
      "Requirement already satisfied: pyjnius>=1.4.0 in /usr/local/lib/python3.9/site-packages (from pyserini) (1.4.1)\n",
      "Requirement already satisfied: pandas>=1.1.5 in /usr/local/lib/python3.9/site-packages (from pyserini) (1.4.2)\n",
      "Requirement already satisfied: tqdm in /usr/local/lib/python3.9/site-packages (from pyserini) (4.63.0)\n",
      "Requirement already satisfied: wheel in /usr/local/lib/python3.9/site-packages (from lightgbm>=3.3.2->pyserini) (0.37.1)\n",
      "Requirement already satisfied: psutil in /usr/local/lib/python3.9/site-packages (from nmslib>=2.1.1->pyserini) (5.9.0)\n",
      "Requirement already satisfied: pybind11<2.6.2 in /usr/local/lib/python3.9/site-packages (from nmslib>=2.1.1->pyserini) (2.6.1)\n",
      "Requirement already satisfied: flatbuffers in /usr/local/lib/python3.9/site-packages (from onnxruntime>=1.8.1->pyserini) (2.0)\n",
      "Requirement already satisfied: protobuf in /usr/local/lib/python3.9/site-packages (from onnxruntime>=1.8.1->pyserini) (3.20.1)\n",
      "Requirement already satisfied: pytz>=2020.1 in /usr/local/lib/python3.9/site-packages (from pandas>=1.1.5->pyserini) (2022.1)\n",
      "Requirement already satisfied: python-dateutil>=2.8.1 in /usr/local/lib/python3.9/site-packages (from pandas>=1.1.5->pyserini) (2.8.2)\n",
      "Requirement already satisfied: six>=1.7.0 in /usr/local/lib/python3.9/site-packages (from pyjnius>=1.4.0->pyserini) (1.16.0)\n",
      "Requirement already satisfied: threadpoolctl>=2.0.0 in /usr/local/lib/python3.9/site-packages (from scikit-learn>=0.22.1->pyserini) (3.1.0)\n",
      "Requirement already satisfied: joblib>=1.0.0 in /usr/local/lib/python3.9/site-packages (from scikit-learn>=0.22.1->pyserini) (1.1.0)\n",
      "Requirement already satisfied: blis<0.8.0,>=0.4.0 in /usr/local/lib/python3.9/site-packages (from spacy>=3.2.1->pyserini) (0.7.6)\n",
      "Requirement already satisfied: preshed<3.1.0,>=3.0.2 in /usr/local/lib/python3.9/site-packages (from spacy>=3.2.1->pyserini) (3.0.6)\n",
      "Requirement already satisfied: requests<3.0.0,>=2.13.0 in /usr/local/lib/python3.9/site-packages (from spacy>=3.2.1->pyserini) (2.27.1)\n",
      "Requirement already satisfied: cymem<2.1.0,>=2.0.2 in /usr/local/lib/python3.9/site-packages (from spacy>=3.2.1->pyserini) (2.0.6)\n",
      "Requirement already satisfied: spacy-loggers<2.0.0,>=1.0.0 in /usr/local/lib/python3.9/site-packages (from spacy>=3.2.1->pyserini) (1.0.1)\n",
      "Requirement already satisfied: pathy>=0.3.5 in /usr/local/lib/python3.9/site-packages (from spacy>=3.2.1->pyserini) (0.6.1)\n",
      "Requirement already satisfied: pydantic!=1.8,!=1.8.1,<1.9.0,>=1.7.4 in /usr/local/lib/python3.9/site-packages (from spacy>=3.2.1->pyserini) (1.8.2)\n",
      "Requirement already satisfied: jinja2 in /usr/local/lib/python3.9/site-packages (from spacy>=3.2.1->pyserini) (3.0.3)\n",
      "Requirement already satisfied: wasabi<1.1.0,>=0.8.1 in /usr/local/lib/python3.9/site-packages (from spacy>=3.2.1->pyserini) (0.9.0)\n",
      "Requirement already satisfied: packaging>=20.0 in /usr/local/lib/python3.9/site-packages (from spacy>=3.2.1->pyserini) (21.3)\n",
      "Requirement already satisfied: murmurhash<1.1.0,>=0.28.0 in /usr/local/lib/python3.9/site-packages (from spacy>=3.2.1->pyserini) (1.0.6)\n",
      "Requirement already satisfied: catalogue<2.1.0,>=2.0.6 in /usr/local/lib/python3.9/site-packages (from spacy>=3.2.1->pyserini) (2.0.6)\n",
      "Requirement already satisfied: thinc<8.1.0,>=8.0.12 in /usr/local/lib/python3.9/site-packages (from spacy>=3.2.1->pyserini) (8.0.13)\n",
      "Requirement already satisfied: langcodes<4.0.0,>=3.2.0 in /usr/local/lib/python3.9/site-packages (from spacy>=3.2.1->pyserini) (3.3.0)\n",
      "Requirement already satisfied: srsly<3.0.0,>=2.4.1 in /usr/local/lib/python3.9/site-packages (from spacy>=3.2.1->pyserini) (2.4.2)\n",
      "Requirement already satisfied: setuptools in /usr/local/lib/python3.9/site-packages (from spacy>=3.2.1->pyserini) (60.10.0)\n",
      "Requirement already satisfied: spacy-legacy<3.1.0,>=3.0.8 in /usr/local/lib/python3.9/site-packages (from spacy>=3.2.1->pyserini) (3.0.9)\n",
      "Requirement already satisfied: typer<0.5.0,>=0.3.0 in /usr/local/lib/python3.9/site-packages (from spacy>=3.2.1->pyserini) (0.4.0)\n",
      "Requirement already satisfied: filelock in /usr/local/lib/python3.9/site-packages (from transformers>=4.6.0->pyserini) (3.6.0)\n",
      "Requirement already satisfied: huggingface-hub<1.0,>=0.1.0 in /usr/local/lib/python3.9/site-packages (from transformers>=4.6.0->pyserini) (0.5.1)\n",
      "Requirement already satisfied: tokenizers!=0.11.3,<0.13,>=0.11.1 in /usr/local/lib/python3.9/site-packages (from transformers>=4.6.0->pyserini) (0.12.1)\n",
      "Requirement already satisfied: regex!=2019.12.17 in /usr/local/lib/python3.9/site-packages (from transformers>=4.6.0->pyserini) (2022.1.18)\n",
      "Requirement already satisfied: pyyaml>=5.1 in /usr/local/lib/python3.9/site-packages (from transformers>=4.6.0->pyserini) (6.0)\n",
      "Requirement already satisfied: typing-extensions>=3.7.4.3 in /usr/local/lib/python3.9/site-packages (from huggingface-hub<1.0,>=0.1.0->transformers>=4.6.0->pyserini) (4.1.1)\n",
      "Requirement already satisfied: pyparsing!=3.0.5,>=2.0.2 in /usr/local/lib/python3.9/site-packages (from packaging>=20.0->spacy>=3.2.1->pyserini) (3.0.7)\n",
      "Requirement already satisfied: smart-open<6.0.0,>=5.0.0 in /usr/local/lib/python3.9/site-packages (from pathy>=0.3.5->spacy>=3.2.1->pyserini) (5.2.1)\n",
      "Requirement already satisfied: certifi>=2017.4.17 in /usr/local/lib/python3.9/site-packages (from requests<3.0.0,>=2.13.0->spacy>=3.2.1->pyserini) (2021.10.8)\n",
      "Requirement already satisfied: urllib3<1.27,>=1.21.1 in /usr/local/lib/python3.9/site-packages (from requests<3.0.0,>=2.13.0->spacy>=3.2.1->pyserini) (1.26.8)\n",
      "Requirement already satisfied: idna<4,>=2.5 in /usr/local/lib/python3.9/site-packages (from requests<3.0.0,>=2.13.0->spacy>=3.2.1->pyserini) (3.3)\n",
      "Requirement already satisfied: charset-normalizer~=2.0.0 in /usr/local/lib/python3.9/site-packages (from requests<3.0.0,>=2.13.0->spacy>=3.2.1->pyserini) (2.0.12)\n"
     ]
    },
    {
     "name": "stdout",
     "output_type": "stream",
     "text": [
      "Requirement already satisfied: click<9.0.0,>=7.1.1 in /usr/local/lib/python3.9/site-packages (from typer<0.5.0,>=0.3.0->spacy>=3.2.1->pyserini) (8.0.4)\n",
      "Requirement already satisfied: MarkupSafe>=2.0 in /usr/local/lib/python3.9/site-packages (from jinja2->spacy>=3.2.1->pyserini) (2.1.0)\n",
      "\u001b[33mDEPRECATION: Configuring installation scheme with distutils config files is deprecated and will no longer work in the near future. If you are using a Homebrew or Linuxbrew Python, please see discussion at https://github.com/Homebrew/homebrew-core/issues/76621\u001b[0m\u001b[33m\n",
      "\u001b[0m\u001b[33mWARNING: You are using pip version 22.0.4; however, version 22.1.1 is available.\n",
      "You should consider upgrading via the '/usr/local/opt/python@3.9/bin/python3.9 -m pip install --upgrade pip' command.\u001b[0m\u001b[33m\n",
      "\u001b[0m"
     ]
    }
   ],
   "source": [
    "!pip install pyjnius\n",
    "!pip install pyserini"
   ]
  },
  {
   "cell_type": "code",
   "execution_count": 2,
   "id": "ac900326",
   "metadata": {},
   "outputs": [],
   "source": [
    "import os\n",
    "os.environ['JAVA_HOME'] = '/usr/local/Cellar/openjdk'\n",
    "os.environ['JVM_PATH'] = '/usr/local/Cellar/openjdk/18.0.1/libexec/openjdk.jdk/Contents/Home/lib/server/libjvm.dylib' \n",
    "os.environ['ANSERINI_CLASSPATH'] = 'anserini/target'\n",
    "\n",
    "from pyserini.index.lucene import IndexReader\n",
    "\n",
    "index_reader = IndexReader('index/lucene-index.clirec')\n",
    "stats = index_reader.stats()"
   ]
  },
  {
   "cell_type": "code",
   "execution_count": 3,
   "id": "03bff5e3",
   "metadata": {},
   "outputs": [
    {
     "name": "stdout",
     "output_type": "stream",
     "text": [
      "{'total_terms': 161312742, 'documents': 1211820, 'non_empty_documents': 1211820, 'unique_terms': 393424}\n",
      "avg doc length: 133.11609149873743\n"
     ]
    }
   ],
   "source": [
    "print(stats)\n",
    "print(\"avg doc length: {}\".format(stats['total_terms'] / stats['documents']))"
   ]
  },
  {
   "cell_type": "code",
   "execution_count": 22,
   "id": "5697e1f7",
   "metadata": {},
   "outputs": [
    {
     "name": "stderr",
     "output_type": "stream",
     "text": [
      "100%|███████████████████████████████████████████████████████████████████████████████████████████████████████████████████████████████████████| 1211820/1211820 [09:59<00:00, 2022.46it/s]"
     ]
    },
    {
     "name": "stdout",
     "output_type": "stream",
     "text": [
      "141.74240481259594\n"
     ]
    },
    {
     "name": "stderr",
     "output_type": "stream",
     "text": [
      "\n"
     ]
    }
   ],
   "source": [
    "from tqdm import tqdm\n",
    "import json\n",
    "from pyserini.analysis import Analyzer, get_lucene_analyzer\n",
    "\n",
    "analyzer = Analyzer(get_lucene_analyzer())\n",
    "\n",
    "doc_len = []\n",
    "\n",
    "for i in tqdm(range(index_reader.stats()['documents'])):\n",
    "    docid = index_reader.convert_internal_docid_to_collection_docid(i)\n",
    "    doc = json.loads(index_reader.doc(docid).raw())\n",
    "    doc_len.append(len(analyzer.analyze(doc['title'])) + len(analyzer.analyze(doc['contents']))) \n",
    "    #if len(doc_len) > 10:\n",
    "    #    break\n",
    "print(sum(doc_len) / len(doc_len))"
   ]
  },
  {
   "cell_type": "code",
   "execution_count": null,
   "id": "4a4b368d",
   "metadata": {},
   "outputs": [],
   "source": []
  }
 ],
 "metadata": {
  "kernelspec": {
   "display_name": "Python 3 (ipykernel)",
   "language": "python",
   "name": "python3"
  },
  "language_info": {
   "codemirror_mode": {
    "name": "ipython",
    "version": 3
   },
   "file_extension": ".py",
   "mimetype": "text/x-python",
   "name": "python",
   "nbconvert_exporter": "python",
   "pygments_lexer": "ipython3",
   "version": "3.9.12"
  }
 },
 "nbformat": 4,
 "nbformat_minor": 5
}
